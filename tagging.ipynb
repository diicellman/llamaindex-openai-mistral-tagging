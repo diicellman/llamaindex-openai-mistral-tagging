{
 "cells": [
  {
   "cell_type": "markdown",
   "metadata": {},
   "source": [
    "# Tagging"
   ]
  },
  {
   "cell_type": "code",
   "execution_count": 1,
   "metadata": {},
   "outputs": [],
   "source": [
    "from pydantic import BaseModel\n",
    "from llama_index.program import OpenAIPydanticProgram, LLMTextCompletionProgram\n",
    "from llama_index.llms import OpenAI, MistralAI\n",
    "from llama_index.prompts import PromptTemplate\n",
    "from llama_index.output_parsers import PydanticOutputParser\n",
    "\n",
    "import pandas as pd\n",
    "from dotenv import dotenv_values"
   ]
  },
  {
   "cell_type": "markdown",
   "metadata": {},
   "source": [
    "Set env var OPENAI_API_KEY, MISTRAL_API_KEY or load from a .env file"
   ]
  },
  {
   "cell_type": "code",
   "execution_count": 2,
   "metadata": {},
   "outputs": [],
   "source": [
    "config = dotenv_values()\n",
    "OPENAI_API_KEY = config[\"OPENAI_API_KEY\"]\n",
    "MISTRAL_API_KEY = config[\"MISTRAL_API_KEY\"]"
   ]
  },
  {
   "cell_type": "markdown",
   "metadata": {},
   "source": [
    "## Load Datasets"
   ]
  },
  {
   "cell_type": "markdown",
   "metadata": {},
   "source": [
    "Load Kaggle's Twitter hate speech dataset"
   ]
  },
  {
   "cell_type": "code",
   "execution_count": 3,
   "metadata": {},
   "outputs": [
    {
     "name": "stdout",
     "output_type": "stream",
     "text": [
      "--2023-12-20 11:49:44--  https://drive.google.com/uc?export=download&id=1TjFzX30QVUFz1Fl_8Ei_liWomvgy0yxY\n",
      "Resolving drive.google.com (drive.google.com)... 173.194.73.102, 173.194.73.100, 173.194.73.113, ...\n",
      "Connecting to drive.google.com (drive.google.com)|173.194.73.102|:443... connected.\n",
      "HTTP request sent, awaiting response... 303 See Other\n",
      "Location: https://doc-0g-30-docs.googleusercontent.com/docs/securesc/ha0ro937gcuc7l7deffksulhg5h7mbp1/ntt47qtfsigf0649q5oocb7bfv2v51tl/1703051325000/04295854648265356048/*/1TjFzX30QVUFz1Fl_8Ei_liWomvgy0yxY?e=download&uuid=9ee92b48-462e-457f-8566-a0b18ab06e62 [following]\n",
      "Warning: wildcards not supported in HTTP.\n",
      "--2023-12-20 11:49:46--  https://doc-0g-30-docs.googleusercontent.com/docs/securesc/ha0ro937gcuc7l7deffksulhg5h7mbp1/ntt47qtfsigf0649q5oocb7bfv2v51tl/1703051325000/04295854648265356048/*/1TjFzX30QVUFz1Fl_8Ei_liWomvgy0yxY?e=download&uuid=9ee92b48-462e-457f-8566-a0b18ab06e62\n",
      "Resolving doc-0g-30-docs.googleusercontent.com (doc-0g-30-docs.googleusercontent.com)... 172.217.169.65\n",
      "Connecting to doc-0g-30-docs.googleusercontent.com (doc-0g-30-docs.googleusercontent.com)|172.217.169.65|:443... connected.\n",
      "HTTP request sent, awaiting response... 200 OK\n",
      "Length: 1635543 (1,6M) [text/csv]\n",
      "Saving to: ‘data/tweets.csv’\n",
      "\n",
      "data/tweets.csv     100%[===================>]   1,56M   775KB/s    in 2,1s    \n",
      "\n",
      "2023-12-20 11:49:49 (775 KB/s) - ‘data/tweets.csv’ saved [1635543/1635543]\n",
      "\n"
     ]
    }
   ],
   "source": [
    "!mkdir -p data\n",
    "!wget \"https://drive.google.com/uc?export=download&id=1TjFzX30QVUFz1Fl_8Ei_liWomvgy0yxY\" -O data/tweets.csv "
   ]
  },
  {
   "cell_type": "code",
   "execution_count": 4,
   "metadata": {},
   "outputs": [
    {
     "data": {
      "text/html": [
       "<div>\n",
       "<style scoped>\n",
       "    .dataframe tbody tr th:only-of-type {\n",
       "        vertical-align: middle;\n",
       "    }\n",
       "\n",
       "    .dataframe tbody tr th {\n",
       "        vertical-align: top;\n",
       "    }\n",
       "\n",
       "    .dataframe thead th {\n",
       "        text-align: right;\n",
       "    }\n",
       "</style>\n",
       "<table border=\"1\" class=\"dataframe\">\n",
       "  <thead>\n",
       "    <tr style=\"text-align: right;\">\n",
       "      <th></th>\n",
       "      <th>id</th>\n",
       "      <th>tweet</th>\n",
       "    </tr>\n",
       "  </thead>\n",
       "  <tbody>\n",
       "    <tr>\n",
       "      <th>0</th>\n",
       "      <td>31963</td>\n",
       "      <td>#studiolife #aislife #requires #passion #dedic...</td>\n",
       "    </tr>\n",
       "    <tr>\n",
       "      <th>1</th>\n",
       "      <td>31964</td>\n",
       "      <td>@user #white #supremacists want everyone to s...</td>\n",
       "    </tr>\n",
       "    <tr>\n",
       "      <th>2</th>\n",
       "      <td>31965</td>\n",
       "      <td>safe ways to heal your #acne!!    #altwaystohe...</td>\n",
       "    </tr>\n",
       "    <tr>\n",
       "      <th>3</th>\n",
       "      <td>31966</td>\n",
       "      <td>is the hp and the cursed child book up for res...</td>\n",
       "    </tr>\n",
       "    <tr>\n",
       "      <th>4</th>\n",
       "      <td>31967</td>\n",
       "      <td>3rd #bihday to my amazing, hilarious #nephew...</td>\n",
       "    </tr>\n",
       "  </tbody>\n",
       "</table>\n",
       "</div>"
      ],
      "text/plain": [
       "      id                                              tweet\n",
       "0  31963  #studiolife #aislife #requires #passion #dedic...\n",
       "1  31964   @user #white #supremacists want everyone to s...\n",
       "2  31965  safe ways to heal your #acne!!    #altwaystohe...\n",
       "3  31966  is the hp and the cursed child book up for res...\n",
       "4  31967    3rd #bihday to my amazing, hilarious #nephew..."
      ]
     },
     "execution_count": 4,
     "metadata": {},
     "output_type": "execute_result"
    }
   ],
   "source": [
    "df = pd.read_csv(\"data/tweets.csv\", sep=\",\")\n",
    "df.head()"
   ]
  },
  {
   "cell_type": "code",
   "execution_count": 11,
   "metadata": {},
   "outputs": [
    {
     "data": {
      "text/plain": [
       "['oh god #ripjulimuffn  ',\n",
       " 'you always waiting on a damn text ð\\x9f\\x98\\x82 ',\n",
       " '@user be careful with @user advice. he has sold his soul.  #faust #blacklivesmatter',\n",
       " 'when you have no actual argument for your hatred of rm so you reso to name calling.   #raiders  ',\n",
       " \"akarinselect pick-up ã\\x80\\x8c  mother's day...    @user #akarinselect #ã\\x81\\x82ã\\x81\\x8bã\\x82\\x8aã\\x82\\x93ã\\x82»ã\\x83¬ã\\x82¯ã\\x83\\x88 \",\n",
       " 'thursday - a mixed day. #happy  ',\n",
       " '23 times #degrassi got #waytoofuckingreal #real #memories   ',\n",
       " 'when you are making piece of a you should do it with love or not at all â\\x9d¤ï¸\\x8fð\\x9f\\x8c¬ #a #handmade #nofarszigeti   ',\n",
       " 'nude sex model of teen   pussy  ',\n",
       " '  bihdaygs   bihdaygs   bihdaygs   bihdaygs   bihdaygs   bihdaygs']"
      ]
     },
     "execution_count": 11,
     "metadata": {},
     "output_type": "execute_result"
    }
   ],
   "source": [
    "# Randomly select 10 samlpes and create list of str\n",
    "df_elements = df.sample(n=10)\n",
    "tweets_list = df_elements['tweet'].to_list()\n",
    "tweets_list"
   ]
  },
  {
   "cell_type": "markdown",
   "metadata": {},
   "source": [
    "## Define output schema"
   ]
  },
  {
   "cell_type": "markdown",
   "metadata": {},
   "source": [
    "We use a Pydantic schema to specify the required properties and types."
   ]
  },
  {
   "cell_type": "code",
   "execution_count": 12,
   "metadata": {},
   "outputs": [],
   "source": [
    "class Tag(BaseModel):\n",
    "    \"\"\"Data model for tagging.\"\"\"\n",
    "\n",
    "    text: str\n",
    "    language: str\n",
    "    sentiment: str\n",
    "    toxicity: float\n",
    "    hate: float\n",
    "    hate_threatening: float\n",
    "    violence: float"
   ]
  },
  {
   "cell_type": "markdown",
   "metadata": {},
   "source": [
    "## Tagging with OpenAI"
   ]
  },
  {
   "cell_type": "markdown",
   "metadata": {},
   "source": [
    "Define openai pydantic program"
   ]
  },
  {
   "cell_type": "code",
   "execution_count": 13,
   "metadata": {},
   "outputs": [],
   "source": [
    "openai_prompt_template = \"\"\"\\\n",
    "I request you to divide the user comment below into aspects and perform sentiment analysis and give the result in sentiment analysis json format. Just return result in json format. Don't add any other comments.\n",
    "\n",
    "Note: The toxicity, hate, hate_threatening and violence scores should be in the range (0.1 - 1). The scores should be a float.\n",
    "The sentiment label should be either ['positive', 'negative', 'neutral'].\n",
    "The text label should be the comment itself.\n",
    "The language label should be a full name of the language in which the comment is written.\n",
    "\n",
    "comment: {user_comment}\\\n",
    "\"\"\"\n",
    "\n",
    "openai_model_name = \"gpt-3.5-turbo-1106\"\n",
    "\n",
    "openai_program = OpenAIPydanticProgram.from_defaults(\n",
    "    output_cls=Tag,\n",
    "    llm=OpenAI(model=openai_model_name, api_key=OPENAI_API_KEY),\n",
    "    prompt_template_str=openai_prompt_template,\n",
    "    verbose=True,\n",
    ")"
   ]
  },
  {
   "cell_type": "markdown",
   "metadata": {},
   "source": [
    "Run program to get tagging output."
   ]
  },
  {
   "cell_type": "code",
   "execution_count": 14,
   "metadata": {},
   "outputs": [
    {
     "name": "stdout",
     "output_type": "stream",
     "text": [
      "Function call: Tag with args: {\"text\":\"I love this world!\",\"language\":\"English\",\"sentiment\":\"positive\",\"toxicity\":0.1,\"hate\":0.1,\"hate_threatening\":0.1,\"violence\":0.1}\n"
     ]
    }
   ],
   "source": [
    "# from llama_index.response.notebook_utils import display_response\n",
    "\n",
    "openai_output = openai_program(user_comment=\"I love this world!\")"
   ]
  },
  {
   "cell_type": "code",
   "execution_count": 15,
   "metadata": {},
   "outputs": [
    {
     "data": {
      "text/plain": [
       "{'text': 'I love this world!',\n",
       " 'language': 'English',\n",
       " 'sentiment': 'positive',\n",
       " 'toxicity': 0.1,\n",
       " 'hate': 0.1,\n",
       " 'hate_threatening': 0.1,\n",
       " 'violence': 0.1}"
      ]
     },
     "execution_count": 15,
     "metadata": {},
     "output_type": "execute_result"
    }
   ],
   "source": [
    "openai_output.model_dump()"
   ]
  },
  {
   "cell_type": "markdown",
   "metadata": {},
   "source": [
    "Run the tagging program on dataset"
   ]
  },
  {
   "cell_type": "code",
   "execution_count": 16,
   "metadata": {},
   "outputs": [
    {
     "name": "stdout",
     "output_type": "stream",
     "text": [
      "Function call: Tag with args: {\"text\":\"oh god #ripjulimuffn\",\"language\":\"English\",\"sentiment\":\"neutral\",\"toxicity\":0.1,\"hate\":0.1,\"hate_threatening\":0.1,\"violence\":0.1}\n",
      "Function call: Tag with args: {\"text\":\"you always waiting on a damn text \\f0\\fs24 \\f1\\fs20 ð\\f0\\fs24 \\f1\\fs20 \\f0\\fs24 \\f1\\fs20\",\"language\":\"English\",\"sentiment\":\"positive\",\"toxicity\":0.2,\"hate\":0.1,\"hate_threatening\":0.1,\"violence\":0.1}\n",
      "Function call: Tag with args: {\"text\":\"@user be careful with @user advice. he has sold his soul.  #faust #blacklivesmatter\",\"language\":\"English\",\"sentiment\":\"negative\",\"toxicity\":0.7,\"hate\":0.3,\"hate_threatening\":0.1,\"violence\":0.2}\n",
      "Function call: Tag with args: {\"text\":\"when you have no actual argument for your hatred of rm so you reso to name calling. #raiders\",\"language\":\"English\"}\n",
      "Function call: Tag with args: {\"text\":\"akarinselect pick-up ã  mother's day...    @user #akarinselect #ããããã»ã¬ã¯ã\",\"language\":\"Japanese\",\"sentiment\":\"neutral\",\"toxicity\":0.1,\"hate\":0.1,\"hate_threatening\":0.1,\"violence\":0.1}\n",
      "Function call: Tag with args: {\"text\":\"thursday - a mixed day. #happy\",\"language\":\"English\",\"sentiment\":\"positive\",\"toxicity\":0.2,\"hate\":0.1,\"hate_threatening\":0.1,\"violence\":0.1}\n",
      "Function call: Tag with args: {\"text\":\"23 times #degrassi got #waytoofuckingreal #real #memories\",\"language\":\"English\",\"sentiment\":\"positive\",\"toxicity\":0.2,\"hate\":0.1,\"hate_threatening\":0.1,\"violence\":0.1}\n",
      "Function call: Tag with args: {\"text\":\"when you are making piece of a you should do it with love or not at all â¤ï¸ð¬ #a #handmade #nofarszigeti\",\"language\":\"English\",\"sentiment\":\"positive\",\"toxicity\":0.1,\"hate\":0.1,\"hate_threatening\":0.1,\"violence\":0.1}\n",
      "Function call: Tag with args: {\"text\":\"nude sex model of teen pussy\",\"language\":\"English\",\"sentiment\":\"negative\",\"toxicity\":0.9,\"hate\":0.8,\"hate_threatening\":0.5,\"violence\":0.7}\n",
      "Function call: Tag with args: {\"text\":\"bihdaygs bihdaygs bihdaygs bihdaygs bihdaygs bihdaygs\",\"language\":\"English\",\"sentiment\":\"positive\",\"toxicity\":0.2,\"hate\":0.1,\"hate_threatening\":0.1,\"violence\":0.1}\n"
     ]
    }
   ],
   "source": [
    "openai_tagged_list = []\n",
    "errors = []\n",
    "for tweet in tweets_list:\n",
    "    # from llama_index.response.notebook_utils import display_response\n",
    "\n",
    "    try:\n",
    "        output = openai_program(user_comment=tweet)\n",
    "        openai_tagged_list.append(output)\n",
    "    except Exception as e:\n",
    "        errors.append(tweet)"
   ]
  },
  {
   "cell_type": "code",
   "execution_count": 17,
   "metadata": {},
   "outputs": [
    {
     "name": "stdout",
     "output_type": "stream",
     "text": [
      "{\n",
      "  \"text\": \"oh god #ripjulimuffn\",\n",
      "  \"language\": \"English\",\n",
      "  \"sentiment\": \"neutral\",\n",
      "  \"toxicity\": 0.1,\n",
      "  \"hate\": 0.1,\n",
      "  \"hate_threatening\": 0.1,\n",
      "  \"violence\": 0.1\n",
      "}\n",
      "{\n",
      "  \"text\": \"you always waiting on a damn text \\f0\\fs24 \\f1\\fs20 ð\\f0\\fs24 \\f1\\fs20 \\f0\\fs24 \\f1\\fs20\",\n",
      "  \"language\": \"English\",\n",
      "  \"sentiment\": \"positive\",\n",
      "  \"toxicity\": 0.2,\n",
      "  \"hate\": 0.1,\n",
      "  \"hate_threatening\": 0.1,\n",
      "  \"violence\": 0.1\n",
      "}\n",
      "{\n",
      "  \"text\": \"@user be careful with @user advice. he has sold his soul.  #faust #blacklivesmatter\",\n",
      "  \"language\": \"English\",\n",
      "  \"sentiment\": \"negative\",\n",
      "  \"toxicity\": 0.7,\n",
      "  \"hate\": 0.3,\n",
      "  \"hate_threatening\": 0.1,\n",
      "  \"violence\": 0.2\n",
      "}\n",
      "{\n",
      "  \"text\": \"akarinselect pick-up ã  mother's day...    @user #akarinselect #ããããã»ã¬ã¯ã\",\n",
      "  \"language\": \"Japanese\",\n",
      "  \"sentiment\": \"neutral\",\n",
      "  \"toxicity\": 0.1,\n",
      "  \"hate\": 0.1,\n",
      "  \"hate_threatening\": 0.1,\n",
      "  \"violence\": 0.1\n",
      "}\n",
      "{\n",
      "  \"text\": \"thursday - a mixed day. #happy\",\n",
      "  \"language\": \"English\",\n",
      "  \"sentiment\": \"positive\",\n",
      "  \"toxicity\": 0.2,\n",
      "  \"hate\": 0.1,\n",
      "  \"hate_threatening\": 0.1,\n",
      "  \"violence\": 0.1\n",
      "}\n",
      "{\n",
      "  \"text\": \"23 times #degrassi got #waytoofuckingreal #real #memories\",\n",
      "  \"language\": \"English\",\n",
      "  \"sentiment\": \"positive\",\n",
      "  \"toxicity\": 0.2,\n",
      "  \"hate\": 0.1,\n",
      "  \"hate_threatening\": 0.1,\n",
      "  \"violence\": 0.1\n",
      "}\n",
      "{\n",
      "  \"text\": \"when you are making piece of a you should do it with love or not at all â¤ï¸ð¬ #a #handmade #nofarszigeti\",\n",
      "  \"language\": \"English\",\n",
      "  \"sentiment\": \"positive\",\n",
      "  \"toxicity\": 0.1,\n",
      "  \"hate\": 0.1,\n",
      "  \"hate_threatening\": 0.1,\n",
      "  \"violence\": 0.1\n",
      "}\n",
      "{\n",
      "  \"text\": \"nude sex model of teen pussy\",\n",
      "  \"language\": \"English\",\n",
      "  \"sentiment\": \"negative\",\n",
      "  \"toxicity\": 0.9,\n",
      "  \"hate\": 0.8,\n",
      "  \"hate_threatening\": 0.5,\n",
      "  \"violence\": 0.7\n",
      "}\n",
      "{\n",
      "  \"text\": \"bihdaygs bihdaygs bihdaygs bihdaygs bihdaygs bihdaygs\",\n",
      "  \"language\": \"English\",\n",
      "  \"sentiment\": \"positive\",\n",
      "  \"toxicity\": 0.2,\n",
      "  \"hate\": 0.1,\n",
      "  \"hate_threatening\": 0.1,\n",
      "  \"violence\": 0.1\n",
      "}\n"
     ]
    }
   ],
   "source": [
    "for tagged_tweet in openai_tagged_list:\n",
    "    print(tagged_tweet.model_dump_json(indent=2))"
   ]
  },
  {
   "cell_type": "markdown",
   "metadata": {},
   "source": [
    "## Tagging with Mixtral 8x7"
   ]
  },
  {
   "cell_type": "code",
   "execution_count": 18,
   "metadata": {},
   "outputs": [],
   "source": [
    "mixtral_prompt_template = \"\"\"\n",
    "<s> [INST] I request you to divide the user comment below into aspects and perform sentiment analysis and give the result in sentiment analysis json format. Just return result in json format. Don't add any other comments.\n",
    "\n",
    "Note: The toxicity, hate, hate_threatening and violence scores should be in the range (0.1 - 1). The scores should be a float.\n",
    "The sentiment label should be either ['positive', 'negative', 'neutral'].\n",
    "The text label should be the comment itself. \n",
    "The language label should be a full name of the language in which the comment is written. [/INST] </s> \n",
    "[INST] comment: {user_comment} \n",
    "Answer: [/INST]\n",
    "\"\"\"\n",
    "\n",
    "mixtral_prompt_tmpl = PromptTemplate(mixtral_prompt_template)\n",
    "\n",
    "mixtral_model_name = \"mistral-small\"\n",
    "\n",
    "mixtral_program = LLMTextCompletionProgram(\n",
    "    output_parser=PydanticOutputParser(Tag),\n",
    "    prompt=mixtral_prompt_tmpl,\n",
    "    llm=MistralAI(model=mixtral_model_name, api_key=MISTRAL_API_KEY),\n",
    "    verbose=True,\n",
    ")"
   ]
  },
  {
   "cell_type": "markdown",
   "metadata": {},
   "source": [
    "Run program to get tagging output."
   ]
  },
  {
   "cell_type": "code",
   "execution_count": 19,
   "metadata": {},
   "outputs": [],
   "source": [
    "mixtral_output = mixtral_program(user_comment=\"I love this world!\")"
   ]
  },
  {
   "cell_type": "code",
   "execution_count": 20,
   "metadata": {},
   "outputs": [
    {
     "data": {
      "text/plain": [
       "{'text': 'I love this world!',\n",
       " 'language': 'English',\n",
       " 'sentiment': 'positive',\n",
       " 'toxicity': 0.1,\n",
       " 'hate': 0.1,\n",
       " 'hate_threatening': 0.1,\n",
       " 'violence': 0.1}"
      ]
     },
     "execution_count": 20,
     "metadata": {},
     "output_type": "execute_result"
    }
   ],
   "source": [
    "mixtral_output.model_dump()"
   ]
  },
  {
   "cell_type": "markdown",
   "metadata": {},
   "source": [
    "Run the tagging program on dataset"
   ]
  },
  {
   "cell_type": "code",
   "execution_count": 21,
   "metadata": {},
   "outputs": [],
   "source": [
    "mixtral_tagged_list = []\n",
    "errors = []\n",
    "for tweet in tweets_list:\n",
    "    # from llama_index.response.notebook_utils import display_response\n",
    "\n",
    "    try:\n",
    "        output = mixtral_program(user_comment=tweet)\n",
    "        mixtral_tagged_list.append(output)\n",
    "    except Exception as e:\n",
    "        errors.append(tweet)"
   ]
  },
  {
   "cell_type": "code",
   "execution_count": 22,
   "metadata": {},
   "outputs": [
    {
     "name": "stdout",
     "output_type": "stream",
     "text": [
      "{\n",
      "  \"text\": \"oh god #ripjulimuffn\",\n",
      "  \"language\": \"English\",\n",
      "  \"sentiment\": \"negative\",\n",
      "  \"toxicity\": 0.2,\n",
      "  \"hate\": 0.1,\n",
      "  \"hate_threatening\": 0.1,\n",
      "  \"violence\": 0.1\n",
      "}\n",
      "{\n",
      "  \"text\": \"you always waiting on a damn text ð\",\n",
      "  \"language\": \"English\",\n",
      "  \"sentiment\": \"neutral\",\n",
      "  \"toxicity\": 0.1,\n",
      "  \"hate\": 0.1,\n",
      "  \"hate_threatening\": 0.1,\n",
      "  \"violence\": 0.1\n",
      "}\n",
      "{\n",
      "  \"text\": \"@user be careful with @user advice. he has sold his soul.  #faust #blacklivesmatter\",\n",
      "  \"language\": \"English\",\n",
      "  \"sentiment\": \"negative\",\n",
      "  \"toxicity\": 0.2,\n",
      "  \"hate\": 0.1,\n",
      "  \"hate_threatening\": 0.0,\n",
      "  \"violence\": 0.0\n",
      "}\n",
      "{\n",
      "  \"text\": \"when you have no actual argument for your hatred of rm so you resort to name calling.   #raiders\",\n",
      "  \"language\": \"English\",\n",
      "  \"sentiment\": \"negative\",\n",
      "  \"toxicity\": 0.3,\n",
      "  \"hate\": 0.2,\n",
      "  \"hate_threatening\": 0.1,\n",
      "  \"violence\": 0.1\n",
      "}\n",
      "{\n",
      "  \"text\": \"akarinselect pick-up ã mother's day... @user #akarinselect #ããããã»ã¬ã¯ã\",\n",
      "  \"language\": \"Japanese\",\n",
      "  \"sentiment\": \"neutral\",\n",
      "  \"toxicity\": 0.1,\n",
      "  \"hate\": 0.1,\n",
      "  \"hate_threatening\": 0.1,\n",
      "  \"violence\": 0.1\n",
      "}\n",
      "{\n",
      "  \"text\": \"thursday - a mixed day. #happy\",\n",
      "  \"language\": \"English\",\n",
      "  \"sentiment\": \"neutral\",\n",
      "  \"toxicity\": 0.1,\n",
      "  \"hate\": 0.1,\n",
      "  \"hate_threatening\": 0.1,\n",
      "  \"violence\": 0.1\n",
      "}\n",
      "{\n",
      "  \"text\": \"23 times #degrassi got #waytoofuckingreal #real #memories\",\n",
      "  \"language\": \"English\",\n",
      "  \"sentiment\": \"neutral\",\n",
      "  \"toxicity\": 0.0,\n",
      "  \"hate\": 0.0,\n",
      "  \"hate_threatening\": 0.0,\n",
      "  \"violence\": 0.0\n",
      "}\n",
      "{\n",
      "  \"text\": \"when you are making piece of a you should do it with love or not at all â¤ï¸ð¬ #a #handmade #nofarszigeti\",\n",
      "  \"language\": \"English\",\n",
      "  \"sentiment\": \"positive\",\n",
      "  \"toxicity\": 0.1,\n",
      "  \"hate\": 0.1,\n",
      "  \"hate_threatening\": 0.1,\n",
      "  \"violence\": 0.1\n",
      "}\n",
      "{\n",
      "  \"text\": \"nude sex model of teen   pussy\",\n",
      "  \"language\": \"English\",\n",
      "  \"sentiment\": \"negative\",\n",
      "  \"toxicity\": 0.95,\n",
      "  \"hate\": 0.9,\n",
      "  \"hate_threatening\": 0.8,\n",
      "  \"violence\": 0.9\n",
      "}\n",
      "{\n",
      "  \"text\": \"bihdaygs bihdaygs bihdaygs bihdaygs bihdaygs bihdaygs\",\n",
      "  \"language\": \"English\",\n",
      "  \"sentiment\": \"neutral\",\n",
      "  \"toxicity\": 0.1,\n",
      "  \"hate\": 0.1,\n",
      "  \"hate_threatening\": 0.1,\n",
      "  \"violence\": 0.1\n",
      "}\n"
     ]
    }
   ],
   "source": [
    "for tagged_tweet in mixtral_tagged_list:\n",
    "    print(tagged_tweet.model_dump_json(indent=2))"
   ]
  }
 ],
 "metadata": {
  "kernelspec": {
   "display_name": "llamaindex-tagging",
   "language": "python",
   "name": "python3"
  },
  "language_info": {
   "codemirror_mode": {
    "name": "ipython",
    "version": 3
   },
   "file_extension": ".py",
   "mimetype": "text/x-python",
   "name": "python",
   "nbconvert_exporter": "python",
   "pygments_lexer": "ipython3",
   "version": "3.10.11"
  }
 },
 "nbformat": 4,
 "nbformat_minor": 2
}
