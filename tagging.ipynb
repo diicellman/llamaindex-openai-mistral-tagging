{
 "cells": [
  {
   "cell_type": "markdown",
   "metadata": {},
   "source": [
    "# Tagging"
   ]
  },
  {
   "cell_type": "code",
   "execution_count": 1,
   "metadata": {},
   "outputs": [],
   "source": [
    "from pydantic import BaseModel\n",
    "from llama_index.program import OpenAIPydanticProgram, LLMTextCompletionProgram\n",
    "from llama_index.llms import OpenAI, MistralAI\n",
    "from llama_index.prompts import PromptTemplate\n",
    "from llama_index.output_parsers import PydanticOutputParser\n",
    "\n",
    "import pandas as pd\n",
    "from dotenv import dotenv_values"
   ]
  },
  {
   "cell_type": "markdown",
   "metadata": {},
   "source": [
    "Set env var OPENAI_API_KEY, MISTRAL_API_KEY or load from a .env file"
   ]
  },
  {
   "cell_type": "code",
   "execution_count": 2,
   "metadata": {},
   "outputs": [],
   "source": [
    "config = dotenv_values()\n",
    "OPENAI_API_KEY = config[\"OPENAI_API_KEY\"]\n",
    "MISTRAL_API_KEY = config[\"MISTRAL_API_KEY\"]"
   ]
  },
  {
   "cell_type": "markdown",
   "metadata": {},
   "source": [
    "## Load Datasets"
   ]
  },
  {
   "cell_type": "markdown",
   "metadata": {},
   "source": [
    "Load Kaggle's Stock-Market Sentiment Dataset"
   ]
  },
  {
   "cell_type": "code",
   "execution_count": 3,
   "metadata": {},
   "outputs": [
    {
     "name": "stdout",
     "output_type": "stream",
     "text": [
      "--2023-12-20 15:20:39--  https://drive.google.com/uc?export=download&id=1fprVejtXNlOrO0Kv2Izp2MJWNGUSbi11\n",
      "Resolving drive.google.com (drive.google.com)... 173.194.73.138, 173.194.73.100, 173.194.73.102, ...\n",
      "Connecting to drive.google.com (drive.google.com)|173.194.73.138|:443... connected.\n",
      "HTTP request sent, awaiting response... 303 See Other\n",
      "Location: https://doc-0g-30-docs.googleusercontent.com/docs/securesc/ha0ro937gcuc7l7deffksulhg5h7mbp1/9cgsqin934pt90b6062ueg3msqfojtr6/1703064000000/04295854648265356048/*/1fprVejtXNlOrO0Kv2Izp2MJWNGUSbi11?e=download&uuid=2ef91373-20c3-4000-8afe-511ad818d80f [following]\n",
      "Warning: wildcards not supported in HTTP.\n",
      "--2023-12-20 15:20:40--  https://doc-0g-30-docs.googleusercontent.com/docs/securesc/ha0ro937gcuc7l7deffksulhg5h7mbp1/9cgsqin934pt90b6062ueg3msqfojtr6/1703064000000/04295854648265356048/*/1fprVejtXNlOrO0Kv2Izp2MJWNGUSbi11?e=download&uuid=2ef91373-20c3-4000-8afe-511ad818d80f\n",
      "Resolving doc-0g-30-docs.googleusercontent.com (doc-0g-30-docs.googleusercontent.com)... 216.58.212.193\n",
      "Connecting to doc-0g-30-docs.googleusercontent.com (doc-0g-30-docs.googleusercontent.com)|216.58.212.193|:443... connected.\n",
      "HTTP request sent, awaiting response... 200 OK\n",
      "Length: 479968 (469K) [text/csv]\n",
      "Saving to: ‘data/tweets.csv’\n",
      "\n",
      "data/tweets.csv     100%[===================>] 468,72K   810KB/s    in 0,6s    \n",
      "\n",
      "2023-12-20 15:20:42 (810 KB/s) - ‘data/tweets.csv’ saved [479968/479968]\n",
      "\n"
     ]
    }
   ],
   "source": [
    "!mkdir -p data\n",
    "!wget \"https://drive.google.com/uc?export=download&id=1fprVejtXNlOrO0Kv2Izp2MJWNGUSbi11\" -O data/tweets.csv"
   ]
  },
  {
   "cell_type": "code",
   "execution_count": 4,
   "metadata": {},
   "outputs": [
    {
     "data": {
      "text/html": [
       "<div>\n",
       "<style scoped>\n",
       "    .dataframe tbody tr th:only-of-type {\n",
       "        vertical-align: middle;\n",
       "    }\n",
       "\n",
       "    .dataframe tbody tr th {\n",
       "        vertical-align: top;\n",
       "    }\n",
       "\n",
       "    .dataframe thead th {\n",
       "        text-align: right;\n",
       "    }\n",
       "</style>\n",
       "<table border=\"1\" class=\"dataframe\">\n",
       "  <thead>\n",
       "    <tr style=\"text-align: right;\">\n",
       "      <th></th>\n",
       "      <th>Text</th>\n",
       "      <th>Sentiment</th>\n",
       "    </tr>\n",
       "  </thead>\n",
       "  <tbody>\n",
       "    <tr>\n",
       "      <th>0</th>\n",
       "      <td>Kickers on my watchlist XIDE TIT SOQ PNK CPW B...</td>\n",
       "      <td>1</td>\n",
       "    </tr>\n",
       "    <tr>\n",
       "      <th>1</th>\n",
       "      <td>user: AAP MOVIE. 55% return for the FEA/GEED i...</td>\n",
       "      <td>1</td>\n",
       "    </tr>\n",
       "    <tr>\n",
       "      <th>2</th>\n",
       "      <td>user I'd be afraid to short AMZN - they are lo...</td>\n",
       "      <td>1</td>\n",
       "    </tr>\n",
       "    <tr>\n",
       "      <th>3</th>\n",
       "      <td>MNTA Over 12.00</td>\n",
       "      <td>1</td>\n",
       "    </tr>\n",
       "    <tr>\n",
       "      <th>4</th>\n",
       "      <td>OI  Over 21.37</td>\n",
       "      <td>1</td>\n",
       "    </tr>\n",
       "  </tbody>\n",
       "</table>\n",
       "</div>"
      ],
      "text/plain": [
       "                                                Text  Sentiment\n",
       "0  Kickers on my watchlist XIDE TIT SOQ PNK CPW B...          1\n",
       "1  user: AAP MOVIE. 55% return for the FEA/GEED i...          1\n",
       "2  user I'd be afraid to short AMZN - they are lo...          1\n",
       "3                                  MNTA Over 12.00            1\n",
       "4                                   OI  Over 21.37            1"
      ]
     },
     "execution_count": 4,
     "metadata": {},
     "output_type": "execute_result"
    }
   ],
   "source": [
    "df = pd.read_csv(\"data/tweets.csv\", sep=\",\")\n",
    "df.head()"
   ]
  },
  {
   "cell_type": "code",
   "execution_count": 5,
   "metadata": {},
   "outputs": [
    {
     "data": {
      "text/plain": [
       "[\"JPM bounced off it's fib support level today too.\",\n",
       " 'user: Nice B/O for BMY today. Not a lot of volume though. First pullback to confirm.  ',\n",
       " 'There are arguments for American banks both to suspend and to keep their dividend payouts. But the degree of creditâ€¦ https://t.co/a30vacnv70',\n",
       " 'ssys if fundamentals matter... headed under 40. income is 10% sales. 40mil net inc. puts this at PE of 60 with stock at 60. doubt it',\n",
       " 'BWD Wants to fill the gap which will be complete at 83.10. Higher highs and MACD and SI showing bullish signals.',\n",
       " 'Heard on the Street: Investors are betting on IACâ€™s remodel, but just how quickly can the whole thing be fixed? https://t.co/COJsGVy9pH',\n",
       " 'biggest mistake i made all day was not sticking to my gut on reversal in #SOAS #2 not sticking to my watchlist DK STP ANA KOG',\n",
       " 'U.S. corporate bonds suffer negative ratings moves, while analysts say more may be coming https://t.co/w35t7jJkwY',\n",
       " \"Time to all in short AX AMZN NTAP IBM. #cloud-is-dead, iPads now coming in 128Gb version AAP eally Tim? That's all you've got? \",\n",
       " 'DK Over 34.75 for a continuation  ']"
      ]
     },
     "execution_count": 5,
     "metadata": {},
     "output_type": "execute_result"
    }
   ],
   "source": [
    "# Randomly select 10 samlpes and create list of str\n",
    "df_elements = df.sample(n=10)\n",
    "tweets_list = df_elements['Text'].to_list()\n",
    "tweets_list"
   ]
  },
  {
   "cell_type": "markdown",
   "metadata": {},
   "source": [
    "## Define output schema"
   ]
  },
  {
   "cell_type": "markdown",
   "metadata": {},
   "source": [
    "We use a Pydantic schema to specify the required properties and types."
   ]
  },
  {
   "cell_type": "code",
   "execution_count": 6,
   "metadata": {},
   "outputs": [],
   "source": [
    "class Tag(BaseModel):\n",
    "    \"\"\"Data model for tagging.\"\"\"\n",
    "\n",
    "    text: str\n",
    "    language: str\n",
    "    sentiment: str\n",
    "    toxicity: float\n",
    "    hate: float\n",
    "    hate_threatening: float\n",
    "    violence: float"
   ]
  },
  {
   "cell_type": "markdown",
   "metadata": {},
   "source": [
    "## Tagging with OpenAI"
   ]
  },
  {
   "cell_type": "markdown",
   "metadata": {},
   "source": [
    "Define openai pydantic program"
   ]
  },
  {
   "cell_type": "code",
   "execution_count": 7,
   "metadata": {},
   "outputs": [],
   "source": [
    "openai_prompt_template = \"\"\"\\\n",
    "I request you to divide the user comment below into aspects and perform sentiment analysis and give the result in sentiment analysis json format. Just return result in json format. Don't add any other comments.\n",
    "\n",
    "Note: The toxicity, hate, hate_threatening and violence scores should be in the range (0.1 - 1). The scores should be a float.\n",
    "The sentiment label should be either ['positive', 'negative', 'neutral'].\n",
    "The text label should be the comment itself.\n",
    "The language label should be a full name of the language in which the comment is written.\n",
    "\n",
    "comment: {user_comment}\\\n",
    "\"\"\"\n",
    "\n",
    "openai_model_name = \"gpt-3.5-turbo-1106\"\n",
    "\n",
    "openai_program = OpenAIPydanticProgram.from_defaults(\n",
    "    output_cls=Tag,\n",
    "    llm=OpenAI(model=openai_model_name, api_key=OPENAI_API_KEY),\n",
    "    prompt_template_str=openai_prompt_template,\n",
    "    verbose=True,\n",
    ")"
   ]
  },
  {
   "cell_type": "markdown",
   "metadata": {},
   "source": [
    "Run program to get tagging output."
   ]
  },
  {
   "cell_type": "code",
   "execution_count": 8,
   "metadata": {},
   "outputs": [
    {
     "name": "stdout",
     "output_type": "stream",
     "text": [
      "Function call: Tag with args: {\"text\":\"I love this world!\",\"language\":\"English\",\"sentiment\":\"positive\",\"toxicity\":0.1,\"hate\":0.1,\"hate_threatening\":0.1,\"violence\":0.1}\n"
     ]
    }
   ],
   "source": [
    "# from llama_index.response.notebook_utils import display_response\n",
    "\n",
    "openai_output = openai_program(user_comment=\"I love this world!\")"
   ]
  },
  {
   "cell_type": "code",
   "execution_count": 9,
   "metadata": {},
   "outputs": [
    {
     "data": {
      "text/plain": [
       "{'text': 'I love this world!',\n",
       " 'language': 'English',\n",
       " 'sentiment': 'positive',\n",
       " 'toxicity': 0.1,\n",
       " 'hate': 0.1,\n",
       " 'hate_threatening': 0.1,\n",
       " 'violence': 0.1}"
      ]
     },
     "execution_count": 9,
     "metadata": {},
     "output_type": "execute_result"
    }
   ],
   "source": [
    "openai_output.model_dump()"
   ]
  },
  {
   "cell_type": "markdown",
   "metadata": {},
   "source": [
    "Run the tagging program on dataset"
   ]
  },
  {
   "cell_type": "code",
   "execution_count": 10,
   "metadata": {},
   "outputs": [
    {
     "name": "stdout",
     "output_type": "stream",
     "text": [
      "Function call: Tag with args: {\"text\":\"JPM bounced off it's fib support level today too.\",\"language\":\"English\",\"sentiment\":\"positive\",\"toxicity\":0.2,\"hate\":0.1,\"hate_threatening\":0.1,\"violence\":0.1}\n",
      "Function call: Tag with args: {\"text\":\"Nice B/O for BMY today. Not a lot of volume though. First pullback to confirm.\",\"language\":\"English\"}\n",
      "Function call: Tag with args: {\"text\":\"There are arguments for American banks both to suspend and to keep their dividend payouts. But the degree of creditâ€¦ https://t.co/a30vacnv70\",\"language\":\"English\",\"sentiment\":\"positive\",\"toxicity\":0.2,\"hate\":0.1,\"hate_threatening\":0.1,\"violence\":0.1}\n",
      "Function call: Tag with args: {\"text\":\"ssys if fundamentals matter... headed under 40. income is 10% sales. 40mil net inc. puts this at PE of 60 with stock at 60. doubt it\",\"language\":\"English\"}\n",
      "Function call: Tag with args: {\"text\":\"BWD Wants to fill the gap which will be complete at 83.10. Higher highs and MACD and SI showing bullish signals.\",\"language\":\"English\",\"sentiment\":\"positive\",\"toxicity\":0.1,\"hate\":0.1,\"hate_threatening\":0.1,\"violence\":0.1}\n",
      "Function call: Tag with args: {\"text\":\"Heard on the Street: Investors are betting on IACâ€™s remodel, but just how quickly can the whole thing be fixed? https://t.co/COJsGVy9pH\",\"language\":\"English\"}\n",
      "Function call: Tag with args: {\"text\":\"biggest mistake i made all day was not sticking to my gut on reversal in #SOAS #2 not sticking to my watchlist DK STP ANA KOG\",\"language\":\"English\",\"sentiment\":\"negative\",\"toxicity\":0.3,\"hate\":0.1,\"hate_threatening\":0.1,\"violence\":0.1}\n",
      "Function call: Tag with args: {\"text\":\"U.S. corporate bonds suffer negative ratings moves, while analysts say more may be coming https://t.co/w35t7jJkwY\",\"language\":\"English\"}\n",
      "Function call: Tag with args: {\"text\":\"Time to all in short AX AMZN NTAP IBM. #cloud-is-dead, iPads now coming in 128Gb version AAP eally Tim? That's all you've got?\",\"language\":\"English\"}\n",
      "Function call: Tag with args: {\"text\":\"DK Over 34.75 for a continuation\",\"language\":\"English\",\"sentiment\":\"neutral\",\"toxicity\":0.1,\"hate\":0.1,\"hate_threatening\":0.1,\"violence\":0.1}\n"
     ]
    }
   ],
   "source": [
    "openai_tagged_list = []\n",
    "errors = []\n",
    "for tweet in tweets_list:\n",
    "    # from llama_index.response.notebook_utils import display_response\n",
    "\n",
    "    try:\n",
    "        output = openai_program(user_comment=tweet)\n",
    "        openai_tagged_list.append(output)\n",
    "    except Exception as e:\n",
    "        errors.append(tweet)"
   ]
  },
  {
   "cell_type": "code",
   "execution_count": 11,
   "metadata": {},
   "outputs": [
    {
     "name": "stdout",
     "output_type": "stream",
     "text": [
      "{\n",
      "  \"text\": \"JPM bounced off it's fib support level today too.\",\n",
      "  \"language\": \"English\",\n",
      "  \"sentiment\": \"positive\",\n",
      "  \"toxicity\": 0.2,\n",
      "  \"hate\": 0.1,\n",
      "  \"hate_threatening\": 0.1,\n",
      "  \"violence\": 0.1\n",
      "}\n",
      "{\n",
      "  \"text\": \"There are arguments for American banks both to suspend and to keep their dividend payouts. But the degree of creditâ€¦ https://t.co/a30vacnv70\",\n",
      "  \"language\": \"English\",\n",
      "  \"sentiment\": \"positive\",\n",
      "  \"toxicity\": 0.2,\n",
      "  \"hate\": 0.1,\n",
      "  \"hate_threatening\": 0.1,\n",
      "  \"violence\": 0.1\n",
      "}\n",
      "{\n",
      "  \"text\": \"BWD Wants to fill the gap which will be complete at 83.10. Higher highs and MACD and SI showing bullish signals.\",\n",
      "  \"language\": \"English\",\n",
      "  \"sentiment\": \"positive\",\n",
      "  \"toxicity\": 0.1,\n",
      "  \"hate\": 0.1,\n",
      "  \"hate_threatening\": 0.1,\n",
      "  \"violence\": 0.1\n",
      "}\n",
      "{\n",
      "  \"text\": \"biggest mistake i made all day was not sticking to my gut on reversal in #SOAS #2 not sticking to my watchlist DK STP ANA KOG\",\n",
      "  \"language\": \"English\",\n",
      "  \"sentiment\": \"negative\",\n",
      "  \"toxicity\": 0.3,\n",
      "  \"hate\": 0.1,\n",
      "  \"hate_threatening\": 0.1,\n",
      "  \"violence\": 0.1\n",
      "}\n",
      "{\n",
      "  \"text\": \"DK Over 34.75 for a continuation\",\n",
      "  \"language\": \"English\",\n",
      "  \"sentiment\": \"neutral\",\n",
      "  \"toxicity\": 0.1,\n",
      "  \"hate\": 0.1,\n",
      "  \"hate_threatening\": 0.1,\n",
      "  \"violence\": 0.1\n",
      "}\n"
     ]
    }
   ],
   "source": [
    "for tagged_tweet in openai_tagged_list:\n",
    "    print(tagged_tweet.model_dump_json(indent=2))"
   ]
  },
  {
   "cell_type": "markdown",
   "metadata": {},
   "source": [
    "## Tagging with Mixtral 8x7"
   ]
  },
  {
   "cell_type": "code",
   "execution_count": 12,
   "metadata": {},
   "outputs": [],
   "source": [
    "mixtral_prompt_template = \"\"\"\n",
    "<s> [INST] I request you to divide the user comment below into aspects and perform sentiment analysis and give the result in sentiment analysis json format. Just return result in json format. Don't add any other comments.\n",
    "\n",
    "Note: The toxicity, hate, hate_threatening and violence scores should be in the range (0.1 - 1). The scores should be a float.\n",
    "The sentiment label should be either ['positive', 'negative', 'neutral'].\n",
    "The text label should be the comment itself. \n",
    "The language label should be a full name of the language in which the comment is written. [/INST] </s> \n",
    "[INST] comment: {user_comment} \n",
    "Answer: [/INST]\n",
    "\"\"\"\n",
    "\n",
    "mixtral_prompt_tmpl = PromptTemplate(mixtral_prompt_template)\n",
    "\n",
    "mixtral_model_name = \"mistral-small\"\n",
    "\n",
    "mixtral_program = LLMTextCompletionProgram(\n",
    "    output_parser=PydanticOutputParser(Tag),\n",
    "    prompt=mixtral_prompt_tmpl,\n",
    "    llm=MistralAI(model=mixtral_model_name, api_key=MISTRAL_API_KEY),\n",
    "    verbose=True,\n",
    ")"
   ]
  },
  {
   "cell_type": "markdown",
   "metadata": {},
   "source": [
    "Run program to get tagging output."
   ]
  },
  {
   "cell_type": "code",
   "execution_count": 13,
   "metadata": {},
   "outputs": [],
   "source": [
    "mixtral_output = mixtral_program(user_comment=\"I love this world!\")"
   ]
  },
  {
   "cell_type": "code",
   "execution_count": 14,
   "metadata": {},
   "outputs": [
    {
     "data": {
      "text/plain": [
       "{'text': 'I love this world!',\n",
       " 'language': 'English',\n",
       " 'sentiment': 'positive',\n",
       " 'toxicity': 0.1,\n",
       " 'hate': 0.1,\n",
       " 'hate_threatening': 0.1,\n",
       " 'violence': 0.1}"
      ]
     },
     "execution_count": 14,
     "metadata": {},
     "output_type": "execute_result"
    }
   ],
   "source": [
    "mixtral_output.model_dump()"
   ]
  },
  {
   "cell_type": "markdown",
   "metadata": {},
   "source": [
    "Run the tagging program on dataset"
   ]
  },
  {
   "cell_type": "code",
   "execution_count": 15,
   "metadata": {},
   "outputs": [],
   "source": [
    "mixtral_tagged_list = []\n",
    "errors = []\n",
    "for tweet in tweets_list:\n",
    "    # from llama_index.response.notebook_utils import display_response\n",
    "\n",
    "    try:\n",
    "        output = mixtral_program(user_comment=tweet)\n",
    "        mixtral_tagged_list.append(output)\n",
    "    except Exception as e:\n",
    "        errors.append(tweet)"
   ]
  },
  {
   "cell_type": "code",
   "execution_count": 16,
   "metadata": {},
   "outputs": [
    {
     "name": "stdout",
     "output_type": "stream",
     "text": [
      "{\n",
      "  \"text\": \"JPM bounced off it's fib support level today too.\",\n",
      "  \"language\": \"English\",\n",
      "  \"sentiment\": \"neutral\",\n",
      "  \"toxicity\": 0.1,\n",
      "  \"hate\": 0.1,\n",
      "  \"hate_threatening\": 0.1,\n",
      "  \"violence\": 0.1\n",
      "}\n",
      "{\n",
      "  \"text\": \"Nice B/O for BMY today. Not a lot of volume though. First pullback to confirm.\",\n",
      "  \"language\": \"English\",\n",
      "  \"sentiment\": \"positive\",\n",
      "  \"toxicity\": 0.1,\n",
      "  \"hate\": 0.1,\n",
      "  \"hate_threatening\": 0.1,\n",
      "  \"violence\": 0.1\n",
      "}\n",
      "{\n",
      "  \"text\": \"There are arguments for American banks both to suspend and to keep their dividend payouts. But the degree of creditâ€¦ https://t.co/a30vacnv70\",\n",
      "  \"language\": \"English\",\n",
      "  \"sentiment\": \"neutral\",\n",
      "  \"toxicity\": 0.1,\n",
      "  \"hate\": 0.1,\n",
      "  \"hate_threatening\": 0.1,\n",
      "  \"violence\": 0.1\n",
      "}\n",
      "{\n",
      "  \"text\": \"BWD Wants to fill the gap which will be complete at 83.10. Higher highs and MACD and SI showing bullish signals.\",\n",
      "  \"language\": \"English\",\n",
      "  \"sentiment\": \"positive\",\n",
      "  \"toxicity\": 0.1,\n",
      "  \"hate\": 0.1,\n",
      "  \"hate_threatening\": 0.1,\n",
      "  \"violence\": 0.1\n",
      "}\n",
      "{\n",
      "  \"text\": \"Heard on the Street: Investors are betting on IAC’s remodel, but just how quickly can the whole thing be fixed? https://t.co/COJsGVy9pH\",\n",
      "  \"language\": \"English\",\n",
      "  \"sentiment\": \"neutral\",\n",
      "  \"toxicity\": 0.1,\n",
      "  \"hate\": 0.1,\n",
      "  \"hate_threatening\": 0.1,\n",
      "  \"violence\": 0.1\n",
      "}\n",
      "{\n",
      "  \"text\": \"biggest mistake i made all day was not sticking to my gut on reversal in #SOAS #2 not sticking to my watchlist DK STP ANA KOG\",\n",
      "  \"language\": \"English\",\n",
      "  \"sentiment\": \"negative\",\n",
      "  \"toxicity\": 0.1,\n",
      "  \"hate\": 0.1,\n",
      "  \"hate_threatening\": 0.1,\n",
      "  \"violence\": 0.1\n",
      "}\n",
      "{\n",
      "  \"text\": \"U.S. corporate bonds suffer negative ratings moves, while analysts say more may be coming\",\n",
      "  \"language\": \"English\",\n",
      "  \"sentiment\": \"negative\",\n",
      "  \"toxicity\": 0.1,\n",
      "  \"hate\": 0.1,\n",
      "  \"hate_threatening\": 0.1,\n",
      "  \"violence\": 0.1\n",
      "}\n",
      "{\n",
      "  \"text\": \"Time to all in short AX AMZN NTAP IBM. #cloud-is-dead, iPads now coming in 128Gb version AAP eally Tim? That's all you've got?\",\n",
      "  \"language\": \"English\",\n",
      "  \"sentiment\": \"negative\",\n",
      "  \"toxicity\": 0.2,\n",
      "  \"hate\": 0.1,\n",
      "  \"hate_threatening\": 0.1,\n",
      "  \"violence\": 0.1\n",
      "}\n",
      "{\n",
      "  \"text\": \"DK Over 34.75 for a continuation\",\n",
      "  \"language\": \"English\",\n",
      "  \"sentiment\": \"neutral\",\n",
      "  \"toxicity\": 0.1,\n",
      "  \"hate\": 0.1,\n",
      "  \"hate_threatening\": 0.1,\n",
      "  \"violence\": 0.1\n",
      "}\n"
     ]
    }
   ],
   "source": [
    "for tagged_tweet in mixtral_tagged_list:\n",
    "    print(tagged_tweet.model_dump_json(indent=2))"
   ]
  }
 ],
 "metadata": {
  "kernelspec": {
   "display_name": "llamaindex-tagging",
   "language": "python",
   "name": "python3"
  },
  "language_info": {
   "codemirror_mode": {
    "name": "ipython",
    "version": 3
   },
   "file_extension": ".py",
   "mimetype": "text/x-python",
   "name": "python",
   "nbconvert_exporter": "python",
   "pygments_lexer": "ipython3",
   "version": "3.10.11"
  }
 },
 "nbformat": 4,
 "nbformat_minor": 2
}
