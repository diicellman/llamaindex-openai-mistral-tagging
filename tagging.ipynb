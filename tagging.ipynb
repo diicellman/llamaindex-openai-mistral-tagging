{
 "cells": [
  {
   "cell_type": "markdown",
   "metadata": {},
   "source": [
    "# Tagging"
   ]
  },
  {
   "cell_type": "code",
   "execution_count": 4,
   "metadata": {},
   "outputs": [],
   "source": [
    "from pydantic import BaseModel\n",
    "from llama_index.program import OpenAIPydanticProgram, LLMTextCompletionProgram\n",
    "from llama_index.llms import OpenAI, MistralAI\n",
    "from llama_index.prompts import PromptTemplate\n",
    "from llama_index.output_parsers import PydanticOutputParser\n",
    "\n",
    "import pandas as pd\n",
    "from dotenv import dotenv_values"
   ]
  },
  {
   "cell_type": "markdown",
   "metadata": {},
   "source": [
    "Set env var OPENAI_API_KEY, MISTRAL_API_KEY or load from a .env file"
   ]
  },
  {
   "cell_type": "code",
   "execution_count": 5,
   "metadata": {},
   "outputs": [],
   "source": [
    "config = dotenv_values()\n",
    "OPENAI_API_KEY = config[\"OPENAI_API_KEY\"]\n",
    "MISTRAL_API_KEY = config[\"MISTRAL_API_KEY\"]"
   ]
  },
  {
   "cell_type": "markdown",
   "metadata": {},
   "source": [
    "## Load Datasets"
   ]
  },
  {
   "cell_type": "markdown",
   "metadata": {},
   "source": [
    "Load Kaggle's Twitter hate speech dataset"
   ]
  },
  {
   "cell_type": "code",
   "execution_count": 7,
   "metadata": {},
   "outputs": [
    {
     "data": {
      "text/html": [
       "<div>\n",
       "<style scoped>\n",
       "    .dataframe tbody tr th:only-of-type {\n",
       "        vertical-align: middle;\n",
       "    }\n",
       "\n",
       "    .dataframe tbody tr th {\n",
       "        vertical-align: top;\n",
       "    }\n",
       "\n",
       "    .dataframe thead th {\n",
       "        text-align: right;\n",
       "    }\n",
       "</style>\n",
       "<table border=\"1\" class=\"dataframe\">\n",
       "  <thead>\n",
       "    <tr style=\"text-align: right;\">\n",
       "      <th></th>\n",
       "      <th>id</th>\n",
       "      <th>tweet</th>\n",
       "    </tr>\n",
       "  </thead>\n",
       "  <tbody>\n",
       "    <tr>\n",
       "      <th>0</th>\n",
       "      <td>31963</td>\n",
       "      <td>#studiolife #aislife #requires #passion #dedic...</td>\n",
       "    </tr>\n",
       "    <tr>\n",
       "      <th>1</th>\n",
       "      <td>31964</td>\n",
       "      <td>@user #white #supremacists want everyone to s...</td>\n",
       "    </tr>\n",
       "    <tr>\n",
       "      <th>2</th>\n",
       "      <td>31965</td>\n",
       "      <td>safe ways to heal your #acne!!    #altwaystohe...</td>\n",
       "    </tr>\n",
       "    <tr>\n",
       "      <th>3</th>\n",
       "      <td>31966</td>\n",
       "      <td>is the hp and the cursed child book up for res...</td>\n",
       "    </tr>\n",
       "    <tr>\n",
       "      <th>4</th>\n",
       "      <td>31967</td>\n",
       "      <td>3rd #bihday to my amazing, hilarious #nephew...</td>\n",
       "    </tr>\n",
       "  </tbody>\n",
       "</table>\n",
       "</div>"
      ],
      "text/plain": [
       "      id                                              tweet\n",
       "0  31963  #studiolife #aislife #requires #passion #dedic...\n",
       "1  31964   @user #white #supremacists want everyone to s...\n",
       "2  31965  safe ways to heal your #acne!!    #altwaystohe...\n",
       "3  31966  is the hp and the cursed child book up for res...\n",
       "4  31967    3rd #bihday to my amazing, hilarious #nephew..."
      ]
     },
     "execution_count": 7,
     "metadata": {},
     "output_type": "execute_result"
    }
   ],
   "source": [
    "df = pd.read_csv(\"./data/test_tweets_anuFYb8.csv\", sep=\",\")\n",
    "df.head()"
   ]
  },
  {
   "cell_type": "code",
   "execution_count": 25,
   "metadata": {},
   "outputs": [
    {
     "data": {
      "text/plain": [
       "[\"@user #people aren't protesting #trump because a #republican won-they do so because trump has fuhered  &amp;â\\x80¦ \",\n",
       " \"soon i'll be one! \",\n",
       " \"i will miss you. the way we use to be especially the nights being wid you. our memories that we've shared each everyday.   #emotional   ð\\x9f\\x98\\xad\",\n",
       " '@user &lt;3 listen to my most beautiful best friend  @user  singing with her most amazing voice &lt;3 &lt;3 &lt;3 &lt;3 21 ',\n",
       " \"can't believe i've just been on stage with @user and to top it off the pain i've had for 18 months is gone!   #derrenmiracle\",\n",
       " 'i am growing. #i_am #positive #affirmation     ',\n",
       " 'always seems a shame to build something so nice then box it back down again. good to see you all again ',\n",
       " 'time feels as if it is moving backwards.  ',\n",
       " '\"i never knew of a morning in #africa when i woke up and was not  .\" we are booking #kenya fall #travel trips! ',\n",
       " 'we are so close to our booked wedding dates - cannot wait to share the pictures with u!   #beautifulhighbarn ']"
      ]
     },
     "execution_count": 25,
     "metadata": {},
     "output_type": "execute_result"
    }
   ],
   "source": [
    "# Randomly select 10 samlpes and create list of str\n",
    "df_elements = df.sample(n=10)\n",
    "tweets_list = df_elements['tweet'].to_list()\n",
    "tweets_list"
   ]
  },
  {
   "cell_type": "markdown",
   "metadata": {},
   "source": [
    "## Define output schema"
   ]
  },
  {
   "cell_type": "markdown",
   "metadata": {},
   "source": [
    "We use a Pydantic schema to specify the required properties and types."
   ]
  },
  {
   "cell_type": "code",
   "execution_count": 11,
   "metadata": {},
   "outputs": [],
   "source": [
    "class Tag(BaseModel):\n",
    "    \"\"\"Data model for tagging.\"\"\"\n",
    "\n",
    "    text: str\n",
    "    sentiment: str\n",
    "    toxicity: float\n",
    "    hate: float\n",
    "    hate_threatening: float\n",
    "    violence: float"
   ]
  },
  {
   "cell_type": "markdown",
   "metadata": {},
   "source": [
    "## Tagging with OpenAI"
   ]
  },
  {
   "cell_type": "markdown",
   "metadata": {},
   "source": [
    "Define openai pydantic program"
   ]
  },
  {
   "cell_type": "code",
   "execution_count": 15,
   "metadata": {},
   "outputs": [],
   "source": [
    "openai_prompt_template = \"\"\"\\\n",
    "I request you to divide the user comment below into aspects and perform sentiment analysis and give the result in sentiment analysis json format. Just return result in json format. Don't add any other comments.\n",
    "\n",
    "Note: The toxicity, hate, hate_threatening and violence scores should be in the range (0.1 - 1). The scores should be a float.\n",
    "The sentiment label should be either ['positive', 'negative', 'neutral'].\n",
    "The text label should be the comment itself.\n",
    "\n",
    "comment: {user_comment}\\\n",
    "\"\"\"\n",
    "\n",
    "openai_model_name = \"gpt-3.5-turbo-1106\"\n",
    "\n",
    "openai_program = OpenAIPydanticProgram.from_defaults(\n",
    "    output_cls=Tag,\n",
    "    llm=OpenAI(model=openai_model_name, api_key=OPENAI_API_KEY),\n",
    "    prompt_template_str=openai_prompt_template,\n",
    "    verbose=True,\n",
    ")"
   ]
  },
  {
   "cell_type": "markdown",
   "metadata": {},
   "source": [
    "Run program to get tagging output."
   ]
  },
  {
   "cell_type": "code",
   "execution_count": 16,
   "metadata": {},
   "outputs": [
    {
     "name": "stdout",
     "output_type": "stream",
     "text": [
      "Function call: Tag with args: {\"text\":\"I love this world!\",\"sentiment\":\"positive\",\"toxicity\":0.1,\"hate\":0.1,\"hate_threatening\":0.1,\"violence\":0.1}\n"
     ]
    }
   ],
   "source": [
    "# from llama_index.response.notebook_utils import display_response\n",
    "\n",
    "openai_output = openai_program(user_comment=\"I love this world!\")"
   ]
  },
  {
   "cell_type": "code",
   "execution_count": 17,
   "metadata": {},
   "outputs": [
    {
     "data": {
      "text/plain": [
       "{'text': 'I love this world!',\n",
       " 'sentiment': 'positive',\n",
       " 'toxicity': 0.1,\n",
       " 'hate': 0.1,\n",
       " 'hate_threatening': 0.1,\n",
       " 'violence': 0.1}"
      ]
     },
     "execution_count": 17,
     "metadata": {},
     "output_type": "execute_result"
    }
   ],
   "source": [
    "openai_output.model_dump()"
   ]
  },
  {
   "cell_type": "markdown",
   "metadata": {},
   "source": [
    "Run the tagging program on dataset"
   ]
  },
  {
   "cell_type": "code",
   "execution_count": 26,
   "metadata": {},
   "outputs": [
    {
     "name": "stdout",
     "output_type": "stream",
     "text": [
      "Function call: Tag with args: {\"text\":\"@user #people aren't protesting #trump because a #republican won-they do so because trump has fuhered  &amp;\\n\",\"sentiment\":\"negative\",\"toxicity\":0.3,\"hate\":0.2,\"hate_threatening\":0.1,\"violence\":0.1}\n",
      "Function call: Tag with args: {\"text\":\"soon i'll be one!\",\"sentiment\":\"positive\",\"toxicity\":0.1,\"hate\":0.1,\"hate_threatening\":0.1,\"violence\":0.1}\n",
      "Function call: Tag with args: {\"text\":\"i will miss you. the way we use to be especially the nights being wid you. our memories that we've shared each everyday.   #emotional   ð­\",\"sentiment\":\"positive\",\"toxicity\":0.1,\"hate\":0.1,\"hate_threatening\":0.1,\"violence\":0.1}\n",
      "Function call: Tag with args: {\"text\":\"@user &lt;3 listen to my most beautiful best friend  @user  singing with her most amazing voice &lt;3 &lt;3 &lt;3 &lt;3 21\",\"sentiment\":\"positive\",\"toxicity\":0.1,\"hate\":0.1,\"hate_threatening\":0.1,\"violence\":0.1}\n",
      "Function call: Tag with args: {\"text\":\"can't believe i've just been on stage with @user and to top it off the pain i've had for 18 months is gone!   #derrenmiracle\",\"sentiment\":\"positive\",\"toxicity\":0.1,\"hate\":0.1,\"hate_threatening\":0.1,\"violence\":0.1}\n",
      "Function call: Tag with args: {\"text\":\"i am growing. #i_am #positive #affirmation\",\"sentiment\":\"positive\",\"toxicity\":0.1,\"hate\":0.1,\"hate_threatening\":0.1,\"violence\":0.1}\n",
      "Function call: Tag with args: {\"text\":\"always seems a shame to build something so nice then box it back down again. good to see you all again\",\"sentiment\":\"positive\",\"toxicity\":0.2,\"hate\":0.1,\"hate_threatening\":0.1,\"violence\":0.1}\n",
      "Function call: Tag with args: {\"text\":\"time feels as if it is moving backwards.\",\"sentiment\":\"negative\",\"toxicity\":0.2,\"hate\":0.1,\"hate_threatening\":0.1,\"violence\":0.1}\n",
      "Function call: Tag with args: {\"text\":\"i never knew of a morning in #africa when i woke up and was not  . we are booking #kenya fall #travel trips!\",\"sentiment\":\"positive\",\"toxicity\":0.2,\"hate\":0.1,\"hate_threatening\":0.1,\"violence\":0.1}\n",
      "Function call: Tag with args: {\"text\":\"we are so close to our booked wedding dates - cannot wait to share the pictures with u! #beautifulhighbarn\",\"sentiment\":\"positive\",\"toxicity\":0.1,\"hate\":0.1,\"hate_threatening\":0.1,\"violence\":0.1}\n"
     ]
    }
   ],
   "source": [
    "openai_tagged_list = []\n",
    "errors = []\n",
    "for tweet in tweets_list:\n",
    "    # from llama_index.response.notebook_utils import display_response\n",
    "\n",
    "    try:\n",
    "        output = openai_program(user_comment=tweet)\n",
    "        openai_tagged_list.append(output)\n",
    "    except Exception as e:\n",
    "        errors.append(tweet)"
   ]
  },
  {
   "cell_type": "code",
   "execution_count": 29,
   "metadata": {},
   "outputs": [
    {
     "name": "stdout",
     "output_type": "stream",
     "text": [
      "{\n",
      "  \"text\": \"@user #people aren't protesting #trump because a #republican won-they do so because trump has fuhered  &amp;\\n\",\n",
      "  \"sentiment\": \"negative\",\n",
      "  \"toxicity\": 0.3,\n",
      "  \"hate\": 0.2,\n",
      "  \"hate_threatening\": 0.1,\n",
      "  \"violence\": 0.1\n",
      "}\n",
      "{\n",
      "  \"text\": \"soon i'll be one!\",\n",
      "  \"sentiment\": \"positive\",\n",
      "  \"toxicity\": 0.1,\n",
      "  \"hate\": 0.1,\n",
      "  \"hate_threatening\": 0.1,\n",
      "  \"violence\": 0.1\n",
      "}\n",
      "{\n",
      "  \"text\": \"i will miss you. the way we use to be especially the nights being wid you. our memories that we've shared each everyday.   #emotional   ð­\",\n",
      "  \"sentiment\": \"positive\",\n",
      "  \"toxicity\": 0.1,\n",
      "  \"hate\": 0.1,\n",
      "  \"hate_threatening\": 0.1,\n",
      "  \"violence\": 0.1\n",
      "}\n",
      "{\n",
      "  \"text\": \"@user &lt;3 listen to my most beautiful best friend  @user  singing with her most amazing voice &lt;3 &lt;3 &lt;3 &lt;3 21\",\n",
      "  \"sentiment\": \"positive\",\n",
      "  \"toxicity\": 0.1,\n",
      "  \"hate\": 0.1,\n",
      "  \"hate_threatening\": 0.1,\n",
      "  \"violence\": 0.1\n",
      "}\n",
      "{\n",
      "  \"text\": \"can't believe i've just been on stage with @user and to top it off the pain i've had for 18 months is gone!   #derrenmiracle\",\n",
      "  \"sentiment\": \"positive\",\n",
      "  \"toxicity\": 0.1,\n",
      "  \"hate\": 0.1,\n",
      "  \"hate_threatening\": 0.1,\n",
      "  \"violence\": 0.1\n",
      "}\n",
      "{\n",
      "  \"text\": \"i am growing. #i_am #positive #affirmation\",\n",
      "  \"sentiment\": \"positive\",\n",
      "  \"toxicity\": 0.1,\n",
      "  \"hate\": 0.1,\n",
      "  \"hate_threatening\": 0.1,\n",
      "  \"violence\": 0.1\n",
      "}\n",
      "{\n",
      "  \"text\": \"always seems a shame to build something so nice then box it back down again. good to see you all again\",\n",
      "  \"sentiment\": \"positive\",\n",
      "  \"toxicity\": 0.2,\n",
      "  \"hate\": 0.1,\n",
      "  \"hate_threatening\": 0.1,\n",
      "  \"violence\": 0.1\n",
      "}\n",
      "{\n",
      "  \"text\": \"time feels as if it is moving backwards.\",\n",
      "  \"sentiment\": \"negative\",\n",
      "  \"toxicity\": 0.2,\n",
      "  \"hate\": 0.1,\n",
      "  \"hate_threatening\": 0.1,\n",
      "  \"violence\": 0.1\n",
      "}\n",
      "{\n",
      "  \"text\": \"i never knew of a morning in #africa when i woke up and was not  . we are booking #kenya fall #travel trips!\",\n",
      "  \"sentiment\": \"positive\",\n",
      "  \"toxicity\": 0.2,\n",
      "  \"hate\": 0.1,\n",
      "  \"hate_threatening\": 0.1,\n",
      "  \"violence\": 0.1\n",
      "}\n",
      "{\n",
      "  \"text\": \"we are so close to our booked wedding dates - cannot wait to share the pictures with u! #beautifulhighbarn\",\n",
      "  \"sentiment\": \"positive\",\n",
      "  \"toxicity\": 0.1,\n",
      "  \"hate\": 0.1,\n",
      "  \"hate_threatening\": 0.1,\n",
      "  \"violence\": 0.1\n",
      "}\n"
     ]
    }
   ],
   "source": [
    "for tagged_tweet in openai_tagged_list:\n",
    "    print(tagged_tweet.model_dump_json(indent=2))"
   ]
  },
  {
   "cell_type": "markdown",
   "metadata": {},
   "source": [
    "## Tagging with Mixtral 8x7"
   ]
  },
  {
   "cell_type": "code",
   "execution_count": 30,
   "metadata": {},
   "outputs": [],
   "source": [
    "mixtral_prompt_template = \"\"\"\\\n",
    "I request you to divide the user comment below into aspects and perform sentiment analysis and give the result in sentiment analysis json format. Just return result in json format. Don't add any other comments.\n",
    "\n",
    "Note: The toxicity, hate, hate_threatening and violence scores should be in the range (0.1 - 1). The scores should be a float.\n",
    "The sentiment label should be either ['positive', 'negative', 'neutral'].\n",
    "The text label should be the comment itself.\n",
    "\n",
    "comment: {user_comment}\\\n",
    "\"\"\"\n",
    "\n",
    "mixtral_prompt_tmpl = PromptTemplate(mixtral_prompt_template)\n",
    "\n",
    "mixtral_model_name = \"mistral-small\"\n",
    "\n",
    "mixtral_program = LLMTextCompletionProgram(\n",
    "    output_parser=PydanticOutputParser(Tag),\n",
    "    prompt=mixtral_prompt_tmpl,\n",
    "    llm=MistralAI(model=mixtral_model_name, api_key=MISTRAL_API_KEY),\n",
    "    verbose=True,\n",
    ")"
   ]
  },
  {
   "cell_type": "markdown",
   "metadata": {},
   "source": [
    "Run program to get tagging output."
   ]
  },
  {
   "cell_type": "code",
   "execution_count": 31,
   "metadata": {},
   "outputs": [],
   "source": [
    "mixtral_output = mixtral_program(user_comment=\"I love this world!\")"
   ]
  },
  {
   "cell_type": "code",
   "execution_count": 32,
   "metadata": {},
   "outputs": [
    {
     "data": {
      "text/plain": [
       "{'text': 'I love this world!',\n",
       " 'sentiment': 'positive',\n",
       " 'toxicity': 0.1,\n",
       " 'hate': 0.1,\n",
       " 'hate_threatening': 0.1,\n",
       " 'violence': 0.1}"
      ]
     },
     "execution_count": 32,
     "metadata": {},
     "output_type": "execute_result"
    }
   ],
   "source": [
    "mixtral_output.model_dump()"
   ]
  },
  {
   "cell_type": "markdown",
   "metadata": {},
   "source": [
    "Run the tagging program on dataset"
   ]
  },
  {
   "cell_type": "code",
   "execution_count": 33,
   "metadata": {},
   "outputs": [],
   "source": [
    "mixtral_tagged_list = []\n",
    "errors = []\n",
    "for tweet in tweets_list:\n",
    "    # from llama_index.response.notebook_utils import display_response\n",
    "\n",
    "    try:\n",
    "        output = mixtral_program(user_comment=tweet)\n",
    "        mixtral_tagged_list.append(output)\n",
    "    except Exception as e:\n",
    "        errors.append(tweet)"
   ]
  },
  {
   "cell_type": "code",
   "execution_count": 34,
   "metadata": {},
   "outputs": [
    {
     "name": "stdout",
     "output_type": "stream",
     "text": [
      "{\n",
      "  \"text\": \"@user #people aren't protesting #trump because a #republican won-they do so because trump has fuhered  &amp;â¦\",\n",
      "  \"sentiment\": \"negative\",\n",
      "  \"toxicity\": 0.3,\n",
      "  \"hate\": 0.2,\n",
      "  \"hate_threatening\": 0.1,\n",
      "  \"violence\": 0.1\n",
      "}\n",
      "{\n",
      "  \"text\": \"soon i'll be one!\",\n",
      "  \"sentiment\": \"positive\",\n",
      "  \"toxicity\": 0.1,\n",
      "  \"hate\": 0.1,\n",
      "  \"hate_threatening\": 0.1,\n",
      "  \"violence\": 0.1\n",
      "}\n",
      "{\n",
      "  \"text\": \"i will miss you. the way we use to be especially the nights being wid you. our memories that we've shared each everyday.   #emotional   ð­\",\n",
      "  \"sentiment\": \"positive\",\n",
      "  \"toxicity\": 0.1,\n",
      "  \"hate\": 0.1,\n",
      "  \"hate_threatening\": 0.1,\n",
      "  \"violence\": 0.1\n",
      "}\n",
      "{\n",
      "  \"text\": \"@user <3 listen to my most beautiful best friend @user singing with her most amazing voice <3 <3 <3 <3 21\",\n",
      "  \"sentiment\": \"positive\",\n",
      "  \"toxicity\": 0.1,\n",
      "  \"hate\": 0.1,\n",
      "  \"hate_threatening\": 0.1,\n",
      "  \"violence\": 0.1\n",
      "}\n",
      "{\n",
      "  \"text\": \"can't believe i've just been on stage with @user and to top it off the pain i've had for 18 months is gone!   #derrenmiracle\",\n",
      "  \"sentiment\": \"positive\",\n",
      "  \"toxicity\": 0.1,\n",
      "  \"hate\": 0.1,\n",
      "  \"hate_threatening\": 0.1,\n",
      "  \"violence\": 0.1\n",
      "}\n",
      "{\n",
      "  \"text\": \"i am growing. #i_am #positive #affirmation\",\n",
      "  \"sentiment\": \"positive\",\n",
      "  \"toxicity\": 0.1,\n",
      "  \"hate\": 0.1,\n",
      "  \"hate_threatening\": 0.1,\n",
      "  \"violence\": 0.1\n",
      "}\n",
      "{\n",
      "  \"text\": \"always seems a shame to build something so nice then box it back down again. good to see you all again \",\n",
      "  \"sentiment\": \"neutral\",\n",
      "  \"toxicity\": 0.1,\n",
      "  \"hate\": 0.1,\n",
      "  \"hate_threatening\": 0.1,\n",
      "  \"violence\": 0.1\n",
      "}\n",
      "{\n",
      "  \"text\": \"time feels as if it is moving backwards.\",\n",
      "  \"sentiment\": \"neutral\",\n",
      "  \"toxicity\": 0.1,\n",
      "  \"hate\": 0.1,\n",
      "  \"hate_threatening\": 0.1,\n",
      "  \"violence\": 0.1\n",
      "}\n",
      "{\n",
      "  \"text\": \"i never knew of a morning in #africa when i woke up and was not . we are booking #kenya fall #travel trips!\",\n",
      "  \"sentiment\": \"positive\",\n",
      "  \"toxicity\": 0.1,\n",
      "  \"hate\": 0.1,\n",
      "  \"hate_threatening\": 0.1,\n",
      "  \"violence\": 0.1\n",
      "}\n",
      "{\n",
      "  \"text\": \"we are so close to our booked wedding dates - cannot wait to share the pictures with u!   #beautifulhighbarn\",\n",
      "  \"sentiment\": \"positive\",\n",
      "  \"toxicity\": 0.1,\n",
      "  \"hate\": 0.1,\n",
      "  \"hate_threatening\": 0.1,\n",
      "  \"violence\": 0.1\n",
      "}\n"
     ]
    }
   ],
   "source": [
    "for tagged_tweet in mixtral_tagged_list:\n",
    "    print(tagged_tweet.model_dump_json(indent=2))"
   ]
  }
 ],
 "metadata": {
  "kernelspec": {
   "display_name": "llamaindex-tagging",
   "language": "python",
   "name": "python3"
  },
  "language_info": {
   "codemirror_mode": {
    "name": "ipython",
    "version": 3
   },
   "file_extension": ".py",
   "mimetype": "text/x-python",
   "name": "python",
   "nbconvert_exporter": "python",
   "pygments_lexer": "ipython3",
   "version": "3.10.11"
  }
 },
 "nbformat": 4,
 "nbformat_minor": 2
}
